{
 "cells": [
  {
   "cell_type": "code",
   "execution_count": 6,
   "metadata": {},
   "outputs": [],
   "source": [
    "import numpy as np\n",
    "import pandas as pd\n",
    "import tensorflow as tf\n",
    "\n",
    "import sklearn\n",
    "from sklearn.preprocessing import StandardScaler\n",
    "\n",
    "train = pd.read_csv(\"C:\\\\Users\\\\customer\\\\Desktop\\\\Dacon\\\\train.csv\")"
   ]
  },
  {
   "cell_type": "code",
   "execution_count": 8,
   "metadata": {},
   "outputs": [],
   "source": [
    "unique_labels = train['type'].unique()\n",
    "label_dict =  {val:i for i, val in enumerate(unique_labels)}\n",
    "i2lb = {v:k for k, v in label_dict.items()}"
   ]
  },
  {
   "cell_type": "code",
   "execution_count": 10,
   "metadata": {},
   "outputs": [],
   "source": [
    "scaler = StandardScaler()\n",
    "labels = train['type']\n",
    "train = train.drop(columns=['fiberID','type']) ### fiberID는 1000개의 categorical feature이며, 이 커널에서는 무시합니다."
   ]
  },
  {
   "cell_type": "code",
   "execution_count": 12,
   "metadata": {},
   "outputs": [],
   "source": [
    "_mat = scaler.fit_transform(train)\n",
    "train = pd.DataFrame(_mat, columns = train.columns, index = train.index)"
   ]
  },
  {
   "cell_type": "code",
   "execution_count": 13,
   "metadata": {},
   "outputs": [],
   "source": [
    "train_x = train\n",
    "train_y =labels.replace(label_dict)"
   ]
  },
  {
   "cell_type": "code",
   "execution_count": 14,
   "metadata": {},
   "outputs": [],
   "source": [
    "optimizer = tf.keras.optimizers.Adam(learning_rate = 0.0003)"
   ]
  },
  {
   "cell_type": "code",
   "execution_count": 16,
   "metadata": {},
   "outputs": [],
   "source": [
    "model = tf.keras.models.Sequential([\n",
    "    tf.keras.layers.Input(len(train_x.columns)),\n",
    "    tf.keras.layers.Dense(256*4, activation = 'elu'),\n",
    "    tf.keras.layers.Dropout(0.1),\n",
    "    tf.keras.layers.Dense(256*4, activation = 'elu'),\n",
    "    tf.keras.layers.Dense(256*3, activation = 'elu'),\n",
    "    tf.keras.layers.Dropout(0.15),\n",
    "    tf.keras.layers.Dense(256*3, activation = 'elu'),\n",
    "    tf.keras.layers.Dense(256*2, activation = 'elu'),\n",
    "    tf.keras.layers.Dropout(0.1),\n",
    "    tf.keras.layers.Dense(256*2, activation = 'elu'),\n",
    "    tf.keras.layers.Dropout(0.15),\n",
    "    tf.keras.layers.Dense(256*1, activation = 'elu'),\n",
    "    tf.keras.layers.Dense(256*1, activation = 'elu'),\n",
    "    tf.keras.layers.Dropout(0.15),\n",
    "    tf.keras.layers.Dense(128, activation = 'elu'),\n",
    "    tf.keras.layers.Dropout(0.1),\n",
    "    tf.keras.layers.Dense(64, activation = 'elu'),\n",
    "    tf.keras.layers.Dense(32, activation = 'elu'),\n",
    "    tf.keras.layers.Dense(19, activation = 'softmax'),\n",
    "])"
   ]
  },
  {
   "cell_type": "code",
   "execution_count": 18,
   "metadata": {},
   "outputs": [],
   "source": [
    "model.compile(optimizer = optimizer,\n",
    "             loss = 'sparse_categorical_crossentropy',\n",
    "             metrics = ['accuracy'])"
   ]
  },
  {
   "cell_type": "code",
   "execution_count": null,
   "metadata": {},
   "outputs": [],
   "source": [
    "model.fit(train_x,\n",
    "         train_y,\n",
    "         batch_size = 256*3,\n",
    "         validation_split=0.1,\n",
    "         epochs=1)"
   ]
  },
  {
   "cell_type": "code",
   "execution_count": null,
   "metadata": {},
   "outputs": [],
   "source": [
    "test = pd.read.csv(\"C:\\\\Users\\\\customer\\\\Desktop\\\\Dacon\\\\test.csv\").rest_index(drop=True)\n",
    "test_ids = test['id']\n",
    "test = test.drop(columns = ['id','fiberID'])\n",
    "test = pd.DataFrame(scaler.transform(test), columns = test.columns, index = test.index)"
   ]
  },
  {
   "cell_type": "code",
   "execution_count": null,
   "metadata": {},
   "outputs": [],
   "source": [
    "pred_mat = model.predict(test)"
   ]
  },
  {
   "cell_type": "code",
   "execution_count": null,
   "metadata": {},
   "outputs": [],
   "source": [
    "sample = pd.read_csv(\"C:\\\\Users\\\\customer\\\\Desktop\\\\Dacon\\\\sample_submission.csv\")\n",
    "\n",
    "submission = pd.DataFrame(pred_mat, index = test_index)\n",
    "submission = submission.rename(columns=i2lb)\n",
    "submission = pd.concat([test_ids, submission], axis=1)\n",
    "submission = submission()"
   ]
  }
 ],
 "metadata": {
  "kernelspec": {
   "display_name": "Python 3",
   "language": "python",
   "name": "python3"
  },
  "language_info": {
   "codemirror_mode": {
    "name": "ipython",
    "version": 3
   },
   "file_extension": ".py",
   "mimetype": "text/x-python",
   "name": "python",
   "nbconvert_exporter": "python",
   "pygments_lexer": "ipython3",
   "version": "3.7.6"
  }
 },
 "nbformat": 4,
 "nbformat_minor": 4
}
