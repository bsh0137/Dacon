{
 "cells": [
  {
   "cell_type": "code",
   "execution_count": 1,
   "metadata": {},
   "outputs": [
    {
     "name": "stderr",
     "output_type": "stream",
     "text": [
      "Using TensorFlow backend.\n"
     ]
    }
   ],
   "source": [
    "import warnings\n",
    "warnings.simplefilter(action='ignore', category=FutureWarning)\n",
    "import sys\n",
    "import tensorflow as tf\n",
    "import keras\n",
    "import numpy as np\n",
    "import pandas as pd\n",
    "from keras.models import Sequential\n",
    "from keras.layers import Dense\n",
    "from keras.optimizers import SGD,Adam"
   ]
  },
  {
   "cell_type": "code",
   "execution_count": 2,
   "metadata": {},
   "outputs": [
    {
     "name": "stdout",
     "output_type": "stream",
     "text": [
      "python v: 3.7.6 (default, Jan  8 2020, 20:23:39) [MSC v.1916 64 bit (AMD64)]\n",
      "tensorflow v: 2.0.0\n",
      "Keras v: 2.3.1\n"
     ]
    }
   ],
   "source": [
    "import matplotlib.pyplot as plt\n",
    "import seaborn as sns\n",
    "%matplotlib inline\n",
    "tf.random.set_seed(777)\n",
    "\n",
    "print(\"python v:\", sys.version)\n",
    "print(\"tensorflow v:\", tf.__version__)\n",
    "print('Keras v:',keras.__version__)\n"
   ]
  },
  {
   "cell_type": "code",
   "execution_count": 4,
   "metadata": {},
   "outputs": [],
   "source": [
    "train = pd.read_csv('C:/Users/customer/Desktop/Dacon/train.csv', index_col=0)\n",
    "test = pd.read_csv('C:/Users/customer/Desktop/Dacon/test.csv', index_col=0)\n",
    "sample_submission = pd.read_csv('C:/Users/customer/Desktop/Dacon/sample_submission.csv', index_col=0)"
   ]
  },
  {
   "cell_type": "code",
   "execution_count": 6,
   "metadata": {},
   "outputs": [],
   "source": [
    "column_number = {}\n",
    "for i, column in enumerate(sample_submission.columns):\n",
    "    column_number[column] = i\n",
    "    \n",
    "def to_number(x, dic):\n",
    "    return dic[x]\n",
    "\n",
    "train['type_num'] = train['type'].apply(lambda x: to_number(x, column_number))"
   ]
  },
  {
   "cell_type": "code",
   "execution_count": 7,
   "metadata": {},
   "outputs": [],
   "source": [
    "train_x = train.drop(columns=['type', 'type_num'], axis=1)\n",
    "train_y = train['type_num']\n",
    "test_x = test"
   ]
  },
  {
   "cell_type": "code",
   "execution_count": 8,
   "metadata": {},
   "outputs": [
    {
     "name": "stdout",
     "output_type": "stream",
     "text": [
      "tensorflow v: 2.0.0\n",
      "keras v: 2.3.1\n"
     ]
    }
   ],
   "source": [
    "import tensorflow as tf\n",
    "import keras\n",
    "from keras.models import Sequential\n",
    "from keras.layers.core import Dense\n",
    "np.random.seed(7)\n",
    "print(\"tensorflow v:\", tf.__version__)\n",
    "print(\"keras v:\", keras.__version__)"
   ]
  },
  {
   "cell_type": "code",
   "execution_count": 11,
   "metadata": {},
   "outputs": [
    {
     "name": "stdout",
     "output_type": "stream",
     "text": [
      "Model: \"sequential_2\"\n",
      "_________________________________________________________________\n",
      "Layer (type)                 Output Shape              Param #   \n",
      "=================================================================\n",
      "dense_4 (Dense)              (None, 255)               5610      \n",
      "_________________________________________________________________\n",
      "dense_5 (Dense)              (None, 255)               65280     \n",
      "_________________________________________________________________\n",
      "dense_6 (Dense)              (None, 1)                 256       \n",
      "=================================================================\n",
      "Total params: 71,146\n",
      "Trainable params: 71,146\n",
      "Non-trainable params: 0\n",
      "_________________________________________________________________\n"
     ]
    }
   ],
   "source": [
    "model = Sequential()\n",
    "model.add(Dense(255,input_shape=(21,), activation = 'relu'))\n",
    "model.add(Dense(255,activation = 'relu'))\n",
    "model.add(Dense(1,activation = 'sigmoid'))\n",
    "model.compile(loss='mse', optimizer = 'Adam', metrics = ['accuracy'])\n",
    "model.summary()\n"
   ]
  },
  {
   "cell_type": "code",
   "execution_count": null,
   "metadata": {},
   "outputs": [
    {
     "name": "stdout",
     "output_type": "stream",
     "text": [
      "Epoch 1/100\n",
      "199991/199991 [==============================] - 135s 675us/step - loss: 83.4380 - accuracy: 0.03250s - loss: 83.4460 - accuracy: 0. - ETA: 10 - ETA: 0s - loss: 83.4292 - accuracy:\n",
      "Epoch 2/100\n",
      "199991/199991 [==============================] - 112s 561us/step - loss: 83.4352 - accuracy: 0.0325\n",
      "Epoch 3/100\n",
      "199991/199991 [==============================] - 112s 559us/step - loss: 83.4352 - accuracy: 0.0325\n",
      "Epoch 4/100\n",
      "199991/199991 [==============================] - 106s 529us/step - loss: 83.4352 - accuracy: 0.0325\n",
      "Epoch 5/100\n",
      "199991/199991 [==============================] - 129s 644us/step - loss: 83.4352 - accuracy: 0.0325s - loss: 83.4143 -\n",
      "Epoch 6/100\n",
      "199991/199991 [==============================] - 117s 587us/step - loss: 83.4352 - accuracy: 0.0325\n",
      "Epoch 7/100\n",
      "199991/199991 [==============================] - 116s 581us/step - loss: 83.4352 - accuracy: 0.0325\n",
      "Epoch 8/100\n",
      "199991/199991 [==============================] - 107s 535us/step - loss: 83.4352 - accuracy: 0.0325s - loss: 83.\n",
      "Epoch 9/100\n",
      "199991/199991 [==============================] - 120s 598us/step - loss: 83.4352 - accuracy: 0.0325ETA: 0s - loss: 83.4421 - accu\n",
      "Epoch 10/100\n",
      "199991/199991 [==============================] - 117s 585us/step - loss: 83.4352 - accuracy: 0.0325\n",
      "Epoch 11/100\n",
      "199991/199991 [==============================] - 123s 616us/step - loss: 83.4352 - accuracy: 0.0325\n",
      "Epoch 12/100\n",
      "199991/199991 [==============================] - 119s 597us/step - loss: 83.4352 - accuracy: 0.0325\n",
      "Epoch 13/100\n",
      "199991/199991 [==============================] - 140s 700us/step - loss: 83.4352 - accuracy: 0.0325\n",
      "Epoch 14/100\n",
      " 64512/199991 [========>.....................] - ETA: 1:08 - loss: 83.7825 - accuracy: 0.032 - ETA: 1:08 - loss: 83.7713 - accuracy: 0.0321"
     ]
    }
   ],
   "source": [
    "hist = model.fit(train_x, train_y, epochs = 100)"
   ]
  },
  {
   "cell_type": "code",
   "execution_count": null,
   "metadata": {},
   "outputs": [],
   "source": [
    "import pydot\n",
    "from IPython.display import SVG\n",
    "from keras.utils.vis_utils import model_to_dot\n",
    "SVG(model_to_dot(model, show_shapes=True).create(prog='dot', format = 'svg'))"
   ]
  },
  {
   "cell_type": "code",
   "execution_count": null,
   "metadata": {},
   "outputs": [],
   "source": [
    "hist=model.fit(x_train,y_train, validation_data = (x_test,y_test), epochs=500)"
   ]
  },
  {
   "cell_type": "code",
   "execution_count": null,
   "metadata": {},
   "outputs": [],
   "source": [
    "hist.history.keys()"
   ]
  },
  {
   "cell_type": "code",
   "execution_count": null,
   "metadata": {},
   "outputs": [],
   "source": [
    "plt.figure(figsize=(12,8))\n",
    "plt.plot(hist.history['loss'])\n",
    "plt.plot(hist.history['val_loss'])\n",
    "plt.plot(hist.history['acc'])\n",
    "plt.plot(hist.history['val_acc'])\n",
    "plt.legend(['loss', 'val_loss', 'acc', 'val_acc'])\n",
    "plt.grid()\n",
    "plt.show()"
   ]
  }
 ],
 "metadata": {
  "kernelspec": {
   "display_name": "Python 3",
   "language": "python",
   "name": "python3"
  },
  "language_info": {
   "codemirror_mode": {
    "name": "ipython",
    "version": 3
   },
   "file_extension": ".py",
   "mimetype": "text/x-python",
   "name": "python",
   "nbconvert_exporter": "python",
   "pygments_lexer": "ipython3",
   "version": "3.7.6"
  }
 },
 "nbformat": 4,
 "nbformat_minor": 4
}
