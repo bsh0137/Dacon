{
 "cells": [
  {
   "cell_type": "code",
   "execution_count": 2,
   "metadata": {},
   "outputs": [],
   "source": [
    "import pandas as pd\n",
    "import matplotlib.pyplot as plt\n",
    "import numpy as np\n",
    "from sklearn.ensemble import RandomForestClassifier, ExtraTreesClassifier\n",
    "from sklearn.model_selection import train_test_split\n",
    "from sklearn.metrics import classification_report\n"
   ]
  },
  {
   "cell_type": "code",
   "execution_count": 3,
   "metadata": {},
   "outputs": [],
   "source": [
    "def visualize_classifier(classifier, X, y):\n",
    "    # Define the minimum and maximum values for X and Y\n",
    "    # that will be used in the mesh grid\n",
    "    min_x, max_x = X[:, 0].min() - 1.0, X[:, 0].max() + 1.0\n",
    "    min_y, max_y = X[:, 1].min() - 1.0, X[:, 1].max() + 1.0\n",
    "\n",
    "    # Define the step size to use in plotting the mesh grid \n",
    "    mesh_step_size = 0.01\n",
    "\n",
    "    # Define the mesh grid of X and Y values\n",
    "    x_vals, y_vals = np.meshgrid(np.arange(min_x, max_x, mesh_step_size), np.arange(min_y, max_y, mesh_step_size))\n",
    "\n",
    "    # Run the classifier on the mesh grid\n",
    "    output = classifier.predict(np.c_[x_vals.ravel(), y_vals.ravel()])\n",
    "\n",
    "    # Reshape the output array\n",
    "    output = output.reshape(x_vals.shape)\n",
    "\n",
    "    # Create a plot\n",
    "    plt.figure()\n",
    "\n",
    "    # Choose a color scheme for the plot \n",
    "    plt.pcolormesh(x_vals, y_vals, output, cmap=plt.cm.gray)\n",
    "\n",
    "    # Overlay the training points on the plot \n",
    "    plt.scatter(X[:, 0], X[:, 1], c=y, s=75, edgecolors='black', linewidth=1, cmap=plt.cm.Paired)\n",
    "\n",
    "    # Specify the boundaries of the plot\n",
    "    plt.xlim(x_vals.min(), x_vals.max())\n",
    "    plt.ylim(y_vals.min(), y_vals.max())\n",
    "\n",
    "    # Specify the ticks on the X and Y axes\n",
    "    plt.xticks((np.arange(int(X[:, 0].min() - 1), int(X[:, 0].max() + 1), 1.0)))\n",
    "    plt.yticks((np.arange(int(X[:, 1].min() - 1), int(X[:, 1].max() + 1), 1.0)))\n",
    "\n",
    "    plt.show()"
   ]
  },
  {
   "cell_type": "code",
   "execution_count": 4,
   "metadata": {},
   "outputs": [],
   "source": [
    "# 입력 데이터\n",
    "train = pd.read_csv(\"C:\\\\Users\\\\customer\\\\Desktop\\\\Dacon\\\\train.csv\")\n",
    "test = pd.read_csv(\"C:\\\\Users\\\\customer\\\\Desktop\\\\Dacon\\\\test.csv\")\n",
    "sample_submission = pd.read_csv(\"C:\\\\Users\\\\customer\\\\Desktop\\\\Dacon\\\\sample_submission.csv\")\n"
   ]
  },
  {
   "cell_type": "code",
   "execution_count": 51,
   "metadata": {
    "collapsed": true
   },
   "outputs": [
    {
     "name": "stdout",
     "output_type": "stream",
     "text": [
      "{'id': 0, 'STAR_WHITE_DWARF': 1, 'STAR_CATY_VAR': 2, 'STAR_BROWN_DWARF': 3, 'SERENDIPITY_RED': 4, 'REDDEN_STD': 5, 'STAR_BHB': 6, 'GALAXY': 7, 'SERENDIPITY_DISTANT': 8, 'QSO': 9, 'SKY': 10, 'STAR_RED_DWARF': 11, 'ROSAT_D': 12, 'STAR_PN': 13, 'SERENDIPITY_FIRST': 14, 'STAR_CARBON': 15, 'SPECTROPHOTO_STD': 16, 'STAR_SUB_DWARF': 17, 'SERENDIPITY_MANUAL': 18, 'SERENDIPITY_BLUE': 19}\n"
     ]
    },
    {
     "data": {
      "text/plain": [
       "9"
      ]
     },
     "execution_count": 51,
     "metadata": {},
     "output_type": "execute_result"
    }
   ],
   "source": [
    "column_number = {}\n",
    "for i, column in enumerate(sample_submission.columns):\n",
    "    column_number[column] = i\n",
    "    \n",
    "def to_number(x, dic):\n",
    "    return dic[x]\n",
    "\n",
    "train['type_num'] = train['type'].apply(lambda x: to_number(x, column_number))"
   ]
  },
  {
   "cell_type": "code",
   "execution_count": 53,
   "metadata": {},
   "outputs": [],
   "source": [
    "train_x = train.drop(columns=['type', 'type_num'], axis=1)\n",
    "train_y = train['type_num']\n",
    "test_x = test"
   ]
  },
  {
   "cell_type": "code",
   "execution_count": 54,
   "metadata": {},
   "outputs": [],
   "source": [
    "x_train, x_test, y_train, y_test = train_test_split(train_x,train_y, test_size = 0.01)\n"
   ]
  },
  {
   "cell_type": "code",
   "execution_count": 55,
   "metadata": {},
   "outputs": [],
   "source": [
    "params = {\"n_estimators\":100,  \"max_depth\":4, \"random_state\":0}\n",
    "\n",
    "classifier = RandomForestClassifier(**params)\n",
    "extra_classifier =ExtraTreesClassifier(**params)\n",
    "\n",
    "extra_classifier.fit(train_x,train_y)\n",
    "y_train_pred = extra_classifier.predict(train_x)\n",
    "y_test_pred = extra_classifier.predict(x_test)\n",
    "\n"
   ]
  },
  {
   "cell_type": "code",
   "execution_count": 72,
   "metadata": {},
   "outputs": [
    {
     "name": "stdout",
     "output_type": "stream",
     "text": [
      "\n",
      "################################################################################\n",
      "\n",
      "Classifier Performance on Training Dataset\n",
      "\n"
     ]
    },
    {
     "name": "stderr",
     "output_type": "stream",
     "text": [
      "C:\\Users\\customer\\Anaconda3\\lib\\site-packages\\sklearn\\metrics\\_classification.py:1272: UndefinedMetricWarning: Precision and F-score are ill-defined and being set to 0.0 in labels with no predicted samples. Use `zero_division` parameter to control this behavior.\n",
      "  _warn_prf(average, modifier, msg_start, len(result))\n"
     ]
    },
    {
     "name": "stdout",
     "output_type": "stream",
     "text": [
      "              precision    recall  f1-score   support\n",
      "\n",
      "           1       0.00      0.00      0.00      2160\n",
      "           2       0.90      0.88      0.89      6506\n",
      "           3       0.00      0.00      0.00       500\n",
      "           4       0.69      0.65      0.67      2562\n",
      "           5       0.65      0.95      0.77     14618\n",
      "           6       0.69      0.32      0.44     13500\n",
      "           7       0.79      0.97      0.87     37347\n",
      "           8       0.00      0.00      0.00      4654\n",
      "           9       0.77      0.81      0.79     49680\n",
      "          10       0.00      0.00      0.00       127\n",
      "          11       0.88      0.90      0.89     13750\n",
      "          12       0.00      0.00      0.00      6580\n",
      "          13       0.00      0.00      0.00        13\n",
      "          14       0.79      0.25      0.37      7132\n",
      "          15       0.00      0.00      0.00      3257\n",
      "          16       0.76      0.98      0.85     14630\n",
      "          17       0.00      0.00      0.00      1154\n",
      "          18       0.00      0.00      0.00        61\n",
      "          19       0.63      0.87      0.73     21760\n",
      "\n",
      "    accuracy                           0.75    199991\n",
      "   macro avg       0.40      0.40      0.38    199991\n",
      "weighted avg       0.68      0.75      0.70    199991\n",
      "\n",
      "################################################################################\n",
      "\n"
     ]
    }
   ],
   "source": [
    "print(\"\\n\"+ \"#\"*80)\n",
    "print(\"\\nClassifier Performance on Training Dataset\\n\")\n",
    "print(classification_report(train_y,classifier.predict(train_x)))\n",
    "print(\"#\"*80 + \"\\n\")"
   ]
  },
  {
   "cell_type": "code",
   "execution_count": 103,
   "metadata": {},
   "outputs": [
    {
     "data": {
      "text/plain": [
       "numpy.ndarray"
      ]
     },
     "execution_count": 103,
     "metadata": {},
     "output_type": "execute_result"
    }
   ],
   "source": [
    "y_pred = classifier.predict(test_x)"
   ]
  },
  {
   "cell_type": "code",
   "execution_count": 100,
   "metadata": {},
   "outputs": [
    {
     "name": "stdout",
     "output_type": "stream",
     "text": [
      "['STAR_WHITE_DWARF', 'STAR_CATY_VAR', 'STAR_BROWN_DWARF', 'SERENDIPITY_RED', 'REDDEN_STD', 'STAR_BHB', 'GALAXY', 'SERENDIPITY_DISTANT', 'QSO', 'SKY', 'STAR_RED_DWARF', 'ROSAT_D', 'STAR_PN', 'SERENDIPITY_FIRST', 'STAR_CARBON', 'SPECTROPHOTO_STD', 'STAR_SUB_DWARF', 'SERENDIPITY_MANUAL', 'SERENDIPITY_BLUE']\n"
     ]
    }
   ],
   "source": [
    "name = ['STAR_WHITE_DWARF', 'STAR_CATY_VAR', 'STAR_BROWN_DWARF',\n",
    "       'SERENDIPITY_RED', 'REDDEN_STD', 'STAR_BHB', 'GALAXY',\n",
    "       'SERENDIPITY_DISTANT', 'QSO', 'SKY', 'STAR_RED_DWARF', 'ROSAT_D',\n",
    "       'STAR_PN', 'SERENDIPITY_FIRST', 'STAR_CARBON', 'SPECTROPHOTO_STD',\n",
    "       'STAR_SUB_DWARF', 'SERENDIPITY_MANUAL', 'SERENDIPITY_BLUE']\n",
    "print(name)"
   ]
  },
  {
   "cell_type": "code",
   "execution_count": 105,
   "metadata": {},
   "outputs": [
    {
     "name": "stdout",
     "output_type": "stream",
     "text": [
      "       STAR_WHITE_DWARF  STAR_CATY_VAR  STAR_BROWN_DWARF  SERENDIPITY_RED  \\\n",
      "0              0.000192       0.001690          0.007111         0.062350   \n",
      "1              0.002141       0.000120          0.004967         0.030395   \n",
      "2              0.002026       0.038850          0.000230         0.000255   \n",
      "3              0.020143       0.004054          0.000033         0.000274   \n",
      "4              0.000192       0.001690          0.007111         0.062350   \n",
      "...                 ...            ...               ...              ...   \n",
      "10004          0.049233       0.008917          0.000030         0.000235   \n",
      "10005          0.039740       0.008854          0.000060         0.000249   \n",
      "10006          0.005001       0.000572          0.001650         0.008053   \n",
      "10007          0.000145       0.000000          0.000384         0.001569   \n",
      "10008          0.005545       0.000736          0.000000         0.000020   \n",
      "\n",
      "       REDDEN_STD  STAR_BHB    GALAXY  SERENDIPITY_DISTANT       QSO  \\\n",
      "0        0.000047  0.000311  0.015711             0.000375  0.020324   \n",
      "1        0.000023  0.006629  0.032389             0.009829  0.523451   \n",
      "2        0.030395  0.010855  0.820080             0.000416  0.025024   \n",
      "3        0.000051  0.028785  0.001788             0.081769  0.191324   \n",
      "4        0.000047  0.000311  0.015711             0.000375  0.020324   \n",
      "...           ...       ...       ...                  ...       ...   \n",
      "10004    0.004906  0.152421  0.006656             0.086013  0.231096   \n",
      "10005    0.004890  0.267731  0.009238             0.061833  0.227218   \n",
      "10006    0.000027  0.012859  0.015134             0.023871  0.611413   \n",
      "10007    0.000003  0.000327  0.003397             0.007482  0.931374   \n",
      "10008    0.016077  0.144513  0.015820             0.011734  0.015530   \n",
      "\n",
      "                SKY  STAR_RED_DWARF   ROSAT_D   STAR_PN  SERENDIPITY_FIRST  \\\n",
      "0      1.671784e-05        0.840539  0.020809  0.000004           0.019517   \n",
      "1      6.104056e-04        0.020497  0.109555  0.000110           0.198333   \n",
      "2      5.483905e-07        0.011534  0.015594  0.000006           0.014281   \n",
      "3      2.078809e-05        0.000187  0.033477  0.000194           0.036810   \n",
      "4      1.671784e-05        0.840539  0.020809  0.000004           0.019517   \n",
      "...             ...             ...       ...       ...                ...   \n",
      "10004  7.925830e-06        0.000114  0.036555  0.000236           0.027157   \n",
      "10005  5.580700e-06        0.001464  0.039641  0.000201           0.028327   \n",
      "10006  4.203795e-04        0.006689  0.064809  0.000185           0.089384   \n",
      "10007  2.457732e-03        0.001423  0.015215  0.000022           0.015889   \n",
      "10008  0.000000e+00        0.000013  0.018284  0.000000           0.000072   \n",
      "\n",
      "       STAR_CARBON  SPECTROPHOTO_STD  STAR_SUB_DWARF  SERENDIPITY_MANUAL  \\\n",
      "0         0.005805      0.000000e+00        0.003892            0.000831   \n",
      "1         0.018088      5.341445e-06        0.000467            0.000687   \n",
      "2         0.020286      8.544926e-04        0.008509            0.000067   \n",
      "3         0.000946      1.154355e-06        0.000007            0.000522   \n",
      "4         0.005805      0.000000e+00        0.003892            0.000831   \n",
      "...            ...               ...             ...                 ...   \n",
      "10004     0.004778      2.143558e-05        0.000187            0.000392   \n",
      "10005     0.009691      2.110236e-05        0.000990            0.000290   \n",
      "10006     0.016090      1.938197e-05        0.000564            0.000344   \n",
      "10007     0.000829      6.131020e-07        0.000002            0.000083   \n",
      "10008     0.004219      7.641031e-01        0.000004            0.000165   \n",
      "\n",
      "       SERENDIPITY_BLUE  \n",
      "0              0.000474  \n",
      "1              0.041702  \n",
      "2              0.000738  \n",
      "3              0.599615  \n",
      "4              0.000474  \n",
      "...                 ...  \n",
      "10004          0.391044  \n",
      "10005          0.299557  \n",
      "10006          0.142916  \n",
      "10007          0.019397  \n",
      "10008          0.003163  \n",
      "\n",
      "[10009 rows x 19 columns]\n"
     ]
    }
   ],
   "source": [
    "submission = pd.DataFrame(data=y_pred, columns=name)\n",
    "print(submission)"
   ]
  },
  {
   "cell_type": "code",
   "execution_count": 106,
   "metadata": {},
   "outputs": [],
   "source": [
    "submission.to_csv('submission_ver1.csv', index=True)"
   ]
  }
 ],
 "metadata": {
  "kernelspec": {
   "display_name": "Python 3",
   "language": "python",
   "name": "python3"
  },
  "language_info": {
   "codemirror_mode": {
    "name": "ipython",
    "version": 3
   },
   "file_extension": ".py",
   "mimetype": "text/x-python",
   "name": "python",
   "nbconvert_exporter": "python",
   "pygments_lexer": "ipython3",
   "version": "3.7.6"
  }
 },
 "nbformat": 4,
 "nbformat_minor": 4
}
