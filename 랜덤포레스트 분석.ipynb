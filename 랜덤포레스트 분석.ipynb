{
 "cells": [
  {
   "cell_type": "code",
   "execution_count": 4,
   "metadata": {},
   "outputs": [],
   "source": [
    "import pandas as pd\n",
    "import matplotlib.pyplot as plt\n",
    "import numpy as np\n",
    "from sklearn.ensemble import RandomForestClassifier, ExtraTreesClassifier\n",
    "from sklearn.model_selection import train_test_split\n",
    "from sklearn.metrics import classification_report\n"
   ]
  },
  {
   "cell_type": "code",
   "execution_count": 5,
   "metadata": {},
   "outputs": [],
   "source": [
    "def visualize_classifier(classifier, X, y):\n",
    "    # Define the minimum and maximum values for X and Y\n",
    "    # that will be used in the mesh grid\n",
    "    min_x, max_x = X[:, 0].min() - 1.0, X[:, 0].max() + 1.0\n",
    "    min_y, max_y = X[:, 1].min() - 1.0, X[:, 1].max() + 1.0\n",
    "\n",
    "    # Define the step size to use in plotting the mesh grid \n",
    "    mesh_step_size = 0.01\n",
    "\n",
    "    # Define the mesh grid of X and Y values\n",
    "    x_vals, y_vals = np.meshgrid(np.arange(min_x, max_x, mesh_step_size), np.arange(min_y, max_y, mesh_step_size))\n",
    "\n",
    "    # Run the classifier on the mesh grid\n",
    "    output = classifier.predict(np.c_[x_vals.ravel(), y_vals.ravel()])\n",
    "\n",
    "    # Reshape the output array\n",
    "    output = output.reshape(x_vals.shape)\n",
    "\n",
    "    # Create a plot\n",
    "    plt.figure()\n",
    "\n",
    "    # Choose a color scheme for the plot \n",
    "    plt.pcolormesh(x_vals, y_vals, output, cmap=plt.cm.gray)\n",
    "\n",
    "    # Overlay the training points on the plot \n",
    "    plt.scatter(X[:, 0], X[:, 1], c=y, s=75, edgecolors='black', linewidth=1, cmap=plt.cm.Paired)\n",
    "\n",
    "    # Specify the boundaries of the plot\n",
    "    plt.xlim(x_vals.min(), x_vals.max())\n",
    "    plt.ylim(y_vals.min(), y_vals.max())\n",
    "\n",
    "    # Specify the ticks on the X and Y axes\n",
    "    plt.xticks((np.arange(int(X[:, 0].min() - 1), int(X[:, 0].max() + 1), 1.0)))\n",
    "    plt.yticks((np.arange(int(X[:, 1].min() - 1), int(X[:, 1].max() + 1), 1.0)))\n",
    "\n",
    "    plt.show()"
   ]
  },
  {
   "cell_type": "code",
   "execution_count": 174,
   "metadata": {},
   "outputs": [],
   "source": [
    "# 입력 데이터\n",
    "train = pd.read_csv(\"C:\\\\Users\\\\customer\\\\Desktop\\\\Dacon\\\\train.csv\",index_col=0)\n",
    "test = pd.read_csv(\"C:\\\\Users\\\\customer\\\\Desktop\\\\Dacon\\\\test.csv\",index_col=0)\n",
    "sample_submission = pd.read_csv(\"C:\\\\Users\\\\customer\\\\Desktop\\\\Dacon\\\\sample_submission.csv\")\n"
   ]
  },
  {
   "cell_type": "code",
   "execution_count": 164,
   "metadata": {},
   "outputs": [],
   "source": [
    "column_number = {}\n",
    "column_name = {}\n",
    "for i, column in enumerate(sample_submission.columns):\n",
    "    column_number[column] = i\n",
    "    column_name[i] = column\n",
    "def to_number(x, dic):\n",
    "    return dic[x]\n",
    "\n",
    "train['type_num'] = train['type'].apply(lambda x: to_number(x, column_number))\n"
   ]
  },
  {
   "cell_type": "code",
   "execution_count": 165,
   "metadata": {},
   "outputs": [
    {
     "name": "stdout",
     "output_type": "stream",
     "text": [
      "{'STAR_WHITE_DWARF': 0, 'STAR_CATY_VAR': 1, 'STAR_BROWN_DWARF': 2, 'SERENDIPITY_RED': 3, 'REDDEN_STD': 4, 'STAR_BHB': 5, 'GALAXY': 6, 'SERENDIPITY_DISTANT': 7, 'QSO': 8, 'SKY': 9, 'STAR_RED_DWARF': 10, 'ROSAT_D': 11, 'STAR_PN': 12, 'SERENDIPITY_FIRST': 13, 'STAR_CARBON': 14, 'SPECTROPHOTO_STD': 15, 'STAR_SUB_DWARF': 16, 'SERENDIPITY_MANUAL': 17, 'SERENDIPITY_BLUE': 18}\n",
      "{0: 'STAR_WHITE_DWARF', 1: 'STAR_CATY_VAR', 2: 'STAR_BROWN_DWARF', 3: 'SERENDIPITY_RED', 4: 'REDDEN_STD', 5: 'STAR_BHB', 6: 'GALAXY', 7: 'SERENDIPITY_DISTANT', 8: 'QSO', 9: 'SKY', 10: 'STAR_RED_DWARF', 11: 'ROSAT_D', 12: 'STAR_PN', 13: 'SERENDIPITY_FIRST', 14: 'STAR_CARBON', 15: 'SPECTROPHOTO_STD', 16: 'STAR_SUB_DWARF', 17: 'SERENDIPITY_MANUAL', 18: 'SERENDIPITY_BLUE'}\n"
     ]
    }
   ],
   "source": [
    "print(column_number)\n",
    "print(column_name)"
   ]
  },
  {
   "cell_type": "code",
   "execution_count": 166,
   "metadata": {
    "scrolled": true
   },
   "outputs": [],
   "source": [
    "train_x = train.drop(columns=['type', 'type_num','fiberID'], axis=1)\n",
    "train_y = train['type_num']\n",
    "test_x = test\n",
    "test_x = test_x.drop(columns=['fiberID'],axis=1)"
   ]
  },
  {
   "cell_type": "code",
   "execution_count": 167,
   "metadata": {
    "scrolled": true
   },
   "outputs": [],
   "source": [
    "drop_index = []\n",
    "columns = train_x.columns.tolist()\n",
    "for i in columns:\n",
    "    drop_index.append(train_x[train_x[i]<=10].index.tolist())\n",
    "    drop_index.append(train_x[train_x[i]>=35].index.tolist())"
   ]
  },
  {
   "cell_type": "code",
   "execution_count": 168,
   "metadata": {
    "scrolled": true
   },
   "outputs": [],
   "source": [
    "drop_index = sum(drop_index, [])"
   ]
  },
  {
   "cell_type": "code",
   "execution_count": 169,
   "metadata": {
    "scrolled": true
   },
   "outputs": [],
   "source": [
    "train_x = train_x.drop(drop_index)\n",
    "train_y = train_y.drop(drop_index)"
   ]
  },
  {
   "cell_type": "code",
   "execution_count": 170,
   "metadata": {},
   "outputs": [],
   "source": [
    "params = {\"n_estimators\":100,  \"max_depth\":4, \"random_state\":0}\n",
    "\n",
    "classifier = RandomForestClassifier(**params)\n",
    "extra_classifier =ExtraTreesClassifier(**params)\n",
    "\n",
    "classifier.fit(train_x,train_y)\n",
    "y_train_pred = classifier.predict(train_x)\n",
    "y_test_pred = classifier.predict(test_x)\n",
    "\n"
   ]
  },
  {
   "cell_type": "code",
   "execution_count": 171,
   "metadata": {},
   "outputs": [
    {
     "name": "stdout",
     "output_type": "stream",
     "text": [
      "\n",
      "################################################################################\n",
      "\n",
      " Extra Classifier Performance on Training Dataset\n",
      "\n"
     ]
    },
    {
     "name": "stderr",
     "output_type": "stream",
     "text": [
      "C:\\Users\\customer\\Anaconda3\\lib\\site-packages\\sklearn\\metrics\\_classification.py:1272: UndefinedMetricWarning: Precision and F-score are ill-defined and being set to 0.0 in labels with no predicted samples. Use `zero_division` parameter to control this behavior.\n",
      "  _warn_prf(average, modifier, msg_start, len(result))\n"
     ]
    },
    {
     "name": "stdout",
     "output_type": "stream",
     "text": [
      "              precision    recall  f1-score   support\n",
      "\n",
      "           0       0.00      0.00      0.00      2159\n",
      "           1       0.82      0.92      0.87      6505\n",
      "           2       0.00      0.00      0.00       498\n",
      "           3       0.70      0.73      0.72      2544\n",
      "           4       0.66      0.95      0.78     14613\n",
      "           5       0.68      0.35      0.46     13493\n",
      "           6       0.80      0.97      0.88     37030\n",
      "           7       0.00      0.00      0.00      4650\n",
      "           8       0.79      0.80      0.80     49555\n",
      "           9       0.00      0.00      0.00       123\n",
      "          10       0.90      0.91      0.90     13725\n",
      "          11       0.00      0.00      0.00      6454\n",
      "          12       0.00      0.00      0.00        12\n",
      "          13       0.72      0.35      0.47      7094\n",
      "          14       0.00      0.00      0.00      3253\n",
      "          15       0.76      0.98      0.85     14629\n",
      "          16       0.00      0.00      0.00      1154\n",
      "          17       0.00      0.00      0.00        61\n",
      "          18       0.62      0.87      0.72     21744\n",
      "\n",
      "    accuracy                           0.75    199296\n",
      "   macro avg       0.39      0.41      0.39    199296\n",
      "weighted avg       0.69      0.75      0.71    199296\n",
      "\n",
      "################################################################################\n",
      "\n"
     ]
    }
   ],
   "source": [
    "print(\"\\n\"+ \"#\"*80)\n",
    "print(\"\\n Extra Classifier Performance on Training Dataset\\n\")\n",
    "print(classification_report(train_y,classifier.predict(train_x)))\n",
    "print(\"#\"*80 + \"\\n\")"
   ]
  },
  {
   "cell_type": "code",
   "execution_count": 172,
   "metadata": {},
   "outputs": [],
   "source": [
    "y_pred = classifier.predict_proba(test_x)\n"
   ]
  },
  {
   "cell_type": "code",
   "execution_count": 175,
   "metadata": {
    "scrolled": true
   },
   "outputs": [
    {
     "name": "stdout",
     "output_type": "stream",
     "text": [
      "        STAR_WHITE_DWARF  STAR_CATY_VAR  STAR_BROWN_DWARF  SERENDIPITY_RED  \\\n",
      "id                                                                           \n",
      "199991          0.000433       0.006696      5.801280e-03         0.056025   \n",
      "199992          0.001789       0.000090      3.792557e-03         0.026292   \n",
      "199993          0.001891       0.036035      1.677775e-04         0.000225   \n",
      "199994          0.017849       0.003911      4.315086e-05         0.000572   \n",
      "199995          0.000395       0.000177      6.234793e-03         0.058923   \n",
      "...                  ...            ...               ...              ...   \n",
      "209995          0.053442       0.010890      3.021961e-05         0.000167   \n",
      "209996          0.037194       0.010351      3.760238e-05         0.000184   \n",
      "209997          0.006027       0.000741      2.753307e-04         0.003832   \n",
      "209998          0.000095       0.000000      6.084555e-04         0.001965   \n",
      "209999          0.005313       0.000912      4.671587e-07         0.000000   \n",
      "\n",
      "        REDDEN_STD  STAR_BHB    GALAXY  SERENDIPITY_DISTANT       QSO  \\\n",
      "id                                                                      \n",
      "199991    0.002239  0.001619  0.027668             0.000325  0.021998   \n",
      "199992    0.000011  0.005044  0.034313             0.008052  0.499737   \n",
      "199993    0.018398  0.007231  0.838207             0.000171  0.024580   \n",
      "199994    0.000016  0.023654  0.001383             0.080963  0.196428   \n",
      "199995    0.000221  0.001004  0.016112             0.000324  0.022201   \n",
      "...            ...       ...       ...                  ...       ...   \n",
      "209995    0.011201  0.169056  0.008463             0.084869  0.240881   \n",
      "209996    0.013055  0.271809  0.012892             0.054496  0.233298   \n",
      "209997    0.000021  0.013771  0.015473             0.033466  0.540360   \n",
      "209998    0.000003  0.000189  0.003395             0.007986  0.934354   \n",
      "209999    0.015514  0.142765  0.017602             0.011117  0.015250   \n",
      "\n",
      "             SKY  STAR_RED_DWARF   ROSAT_D   STAR_PN  SERENDIPITY_FIRST  \\\n",
      "id                                                                        \n",
      "199991  0.000003        0.823520  0.020142  0.000000           0.016817   \n",
      "199992  0.000458        0.015269  0.118529  0.000097           0.225384   \n",
      "199993  0.000000        0.010846  0.015120  0.000002           0.015111   \n",
      "199994  0.000009        0.000283  0.032699  0.000158           0.036307   \n",
      "199995  0.000003        0.840471  0.020659  0.000003           0.017869   \n",
      "...          ...             ...       ...       ...                ...   \n",
      "209995  0.000004        0.000834  0.037854  0.000233           0.027578   \n",
      "209996  0.000004        0.001482  0.040272  0.000164           0.030053   \n",
      "209997  0.000273        0.002315  0.066252  0.000228           0.090321   \n",
      "209998  0.002640        0.002138  0.014264  0.000026           0.013608   \n",
      "209999  0.000000        0.000000  0.018006  0.000000           0.000061   \n",
      "\n",
      "        STAR_CARBON  SPECTROPHOTO_STD  STAR_SUB_DWARF  SERENDIPITY_MANUAL  \\\n",
      "id                                                                          \n",
      "199991     0.008766      1.419075e-04    6.362570e-03            0.000747   \n",
      "199992     0.020462      7.914128e-06    5.956345e-04            0.000711   \n",
      "199993     0.021758      5.551109e-04    9.114630e-03            0.000080   \n",
      "199994     0.000523      0.000000e+00    9.437524e-07            0.000505   \n",
      "199995     0.009531      0.000000e+00    4.432134e-03            0.000754   \n",
      "...             ...               ...             ...                 ...   \n",
      "209995     0.004845      5.614328e-06    7.769458e-04            0.000350   \n",
      "209996     0.012612      1.050177e-05    1.787871e-03            0.000264   \n",
      "209997     0.015913      1.597334e-05    7.451701e-05            0.000370   \n",
      "209998     0.000354      3.190200e-07    8.865329e-07            0.000091   \n",
      "209999     0.004309      7.659639e-01    1.470309e-06            0.000166   \n",
      "\n",
      "        SERENDIPITY_BLUE  \n",
      "id                        \n",
      "199991          0.000696  \n",
      "199992          0.039366  \n",
      "199993          0.000509  \n",
      "199994          0.604698  \n",
      "199995          0.000685  \n",
      "...                  ...  \n",
      "209995          0.348522  \n",
      "209996          0.280033  \n",
      "209997          0.210272  \n",
      "209998          0.018283  \n",
      "209999          0.003020  \n",
      "\n",
      "[10009 rows x 19 columns]\n"
     ]
    }
   ],
   "source": [
    "submission = pd.DataFrame(data=y_pred, columns=column_number,index = sample_submission['id'])\n",
    "print(submission)"
   ]
  },
  {
   "cell_type": "code",
   "execution_count": 176,
   "metadata": {},
   "outputs": [],
   "source": [
    "submission.to_csv('submission_ver6.csv', index=True)"
   ]
  },
  {
   "cell_type": "code",
   "execution_count": null,
   "metadata": {},
   "outputs": [],
   "source": []
  }
 ],
 "metadata": {
  "kernelspec": {
   "display_name": "Python 3",
   "language": "python",
   "name": "python3"
  },
  "language_info": {
   "codemirror_mode": {
    "name": "ipython",
    "version": 3
   },
   "file_extension": ".py",
   "mimetype": "text/x-python",
   "name": "python",
   "nbconvert_exporter": "python",
   "pygments_lexer": "ipython3",
   "version": "3.7.6"
  }
 },
 "nbformat": 4,
 "nbformat_minor": 4
}
