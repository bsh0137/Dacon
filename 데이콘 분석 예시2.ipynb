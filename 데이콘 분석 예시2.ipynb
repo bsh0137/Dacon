{
 "cells": [
  {
   "cell_type": "code",
   "execution_count": 1,
   "metadata": {},
   "outputs": [],
   "source": [
    "import numpy as np\n",
    "import pandas as pd\n",
    "import tensorflow as tf\n",
    "\n",
    "import sklearn\n",
    "from sklearn.preprocessing import StandardScaler\n",
    "\n",
    "train = pd.read_csv(\"C:\\\\Users\\\\customer\\\\Desktop\\\\Dacon\\\\train.csv\")"
   ]
  },
  {
   "cell_type": "code",
   "execution_count": 2,
   "metadata": {
    "scrolled": false
   },
   "outputs": [
    {
     "name": "stdout",
     "output_type": "stream",
     "text": [
      "{'QSO': 0, 'STAR_RED_DWARF': 1, 'SERENDIPITY_BLUE': 2, 'STAR_BHB': 3, 'STAR_CATY_VAR': 4, 'SERENDIPITY_DISTANT': 5, 'GALAXY': 6, 'SPECTROPHOTO_STD': 7, 'REDDEN_STD': 8, 'ROSAT_D': 9, 'STAR_WHITE_DWARF': 10, 'SERENDIPITY_RED': 11, 'STAR_CARBON': 12, 'SERENDIPITY_FIRST': 13, 'STAR_BROWN_DWARF': 14, 'STAR_SUB_DWARF': 15, 'SKY': 16, 'SERENDIPITY_MANUAL': 17, 'STAR_PN': 18}\n",
      "{0: 'QSO', 1: 'STAR_RED_DWARF', 2: 'SERENDIPITY_BLUE', 3: 'STAR_BHB', 4: 'STAR_CATY_VAR', 5: 'SERENDIPITY_DISTANT', 6: 'GALAXY', 7: 'SPECTROPHOTO_STD', 8: 'REDDEN_STD', 9: 'ROSAT_D', 10: 'STAR_WHITE_DWARF', 11: 'SERENDIPITY_RED', 12: 'STAR_CARBON', 13: 'SERENDIPITY_FIRST', 14: 'STAR_BROWN_DWARF', 15: 'STAR_SUB_DWARF', 16: 'SKY', 17: 'SERENDIPITY_MANUAL', 18: 'STAR_PN'}\n"
     ]
    }
   ],
   "source": [
    "unique_labels = train['type'].unique()\n",
    "label_dict =  {val:i for i, val in enumerate(unique_labels)}\n",
    "i2lb = {v:k for k, v in label_dict.items()}\n",
    "print(label_dict)\n",
    "print(i2lb)"
   ]
  },
  {
   "cell_type": "code",
   "execution_count": 3,
   "metadata": {},
   "outputs": [],
   "source": [
    "scaler = StandardScaler()\n",
    "labels = train['type']\n",
    "train = train.drop(columns=['fiberID','type']) ### fiberID는 1000개의 categorical feature이며, 이 커널에서는 무시합니다."
   ]
  },
  {
   "cell_type": "code",
   "execution_count": 4,
   "metadata": {},
   "outputs": [
    {
     "name": "stdout",
     "output_type": "stream",
     "text": [
      "              id  psfMag_u  psfMag_g  psfMag_r  psfMag_i  psfMag_z  \\\n",
      "0      -1.732042  0.002522  0.017736  0.022913  0.026865  0.028350   \n",
      "1      -1.732025  0.002373  0.013079  0.017916  0.022808  0.022707   \n",
      "2      -1.732008  0.002071 -0.012530 -0.013542 -0.011566 -0.008257   \n",
      "3      -1.731990  0.002319  0.008782  0.012001  0.015437  0.014545   \n",
      "4      -1.731973  0.002796  0.028203  0.024150  0.012532  0.005864   \n",
      "...          ...       ...       ...       ...       ...       ...   \n",
      "199986  1.731973  0.002305  0.011340  0.012975  0.016956  0.018557   \n",
      "199987  1.731990  0.002697  0.026585  0.020991  0.018385  0.015615   \n",
      "199988  1.732008  0.002556  0.020765  0.015178  0.003550 -0.002722   \n",
      "199989  1.732025  0.002351  0.012134  0.012826  0.015007  0.015169   \n",
      "199990  1.732042  0.002305  0.009309  0.015189  0.019868  0.018503   \n",
      "\n",
      "        fiberMag_u  fiberMag_g  fiberMag_r  fiberMag_i  ...  petroMag_u  \\\n",
      "0         0.002812    0.003432    0.028019    0.026184  ...    0.000844   \n",
      "1         0.002641    0.002612    0.020351    0.022507  ...   -0.000604   \n",
      "2         0.001755   -0.002722   -0.023707   -0.008885  ...   -0.005030   \n",
      "3         0.002442    0.001661    0.012031    0.015448  ...   -0.001778   \n",
      "4         0.003560    0.006081    0.028965    0.013715  ...    0.005094   \n",
      "...            ...         ...         ...         ...  ...         ...   \n",
      "199986    0.002421    0.002208    0.013072    0.017487  ...   -0.001269   \n",
      "199987    0.003794    0.005000    0.018342    0.014533  ...    0.008940   \n",
      "199988    0.003229    0.004291    0.017516    0.005125  ...    0.005250   \n",
      "199989    0.002602    0.001865    0.008191    0.011607  ...   -0.003746   \n",
      "199990    0.002416    0.001815    0.017149    0.020083  ...   -0.001319   \n",
      "\n",
      "        petroMag_g  petroMag_r  petroMag_i  petroMag_z  modelMag_u  \\\n",
      "0         0.019287    0.030818    0.023734    0.019085    0.021572   \n",
      "1         0.015060    0.024765    0.020265    0.020656    0.011300   \n",
      "2        -0.011112   -0.018435   -0.006467   -0.006246   -0.018749   \n",
      "3         0.009973    0.015467    0.014165    0.012306    0.005394   \n",
      "4         0.025735    0.032826    0.013198    0.004744    0.038971   \n",
      "...            ...         ...         ...         ...         ...   \n",
      "199986    0.013488    0.016917    0.016580    0.014700    0.005497   \n",
      "199987    0.024592    0.016559    0.008915    0.007738    0.055691   \n",
      "199988    0.023831    0.019006    0.005632   -0.001967    0.035916   \n",
      "199989   -0.002517   -0.010080   -0.003472   -0.003672   -0.008192   \n",
      "199990    0.010854    0.019888    0.019710    0.014836    0.005209   \n",
      "\n",
      "        modelMag_g  modelMag_r  modelMag_i  modelMag_z  \n",
      "0         0.018062    0.023754    0.025371    0.029607  \n",
      "1         0.013691    0.019199    0.022876    0.024857  \n",
      "2        -0.011420   -0.011496   -0.007869   -0.003743  \n",
      "3         0.009011    0.012750    0.015747    0.017680  \n",
      "4         0.028465    0.024583    0.013683    0.008874  \n",
      "...            ...         ...         ...         ...  \n",
      "199986    0.011022    0.013677    0.018063    0.019997  \n",
      "199987    0.021073    0.011903    0.009892    0.010016  \n",
      "199988    0.020734    0.016711    0.005723    0.001066  \n",
      "199989   -0.003335   -0.005532   -0.003801   -0.001641  \n",
      "199990    0.009720    0.016016    0.019246    0.020988  \n",
      "\n",
      "[199991 rows x 21 columns]\n"
     ]
    }
   ],
   "source": [
    "_mat = scaler.fit_transform(train)\n",
    "train = pd.DataFrame(_mat, columns = train.columns, index = train.index)\n",
    "print(train)"
   ]
  },
  {
   "cell_type": "code",
   "execution_count": 5,
   "metadata": {},
   "outputs": [
    {
     "name": "stdout",
     "output_type": "stream",
     "text": [
      "0                    QSO\n",
      "1                    QSO\n",
      "2                    QSO\n",
      "3                    QSO\n",
      "4         STAR_RED_DWARF\n",
      "               ...      \n",
      "199986               QSO\n",
      "199987            GALAXY\n",
      "199988    STAR_RED_DWARF\n",
      "199989            GALAXY\n",
      "199990               QSO\n",
      "Name: type, Length: 199991, dtype: object\n",
      "{'QSO': 0, 'STAR_RED_DWARF': 1, 'SERENDIPITY_BLUE': 2, 'STAR_BHB': 3, 'STAR_CATY_VAR': 4, 'SERENDIPITY_DISTANT': 5, 'GALAXY': 6, 'SPECTROPHOTO_STD': 7, 'REDDEN_STD': 8, 'ROSAT_D': 9, 'STAR_WHITE_DWARF': 10, 'SERENDIPITY_RED': 11, 'STAR_CARBON': 12, 'SERENDIPITY_FIRST': 13, 'STAR_BROWN_DWARF': 14, 'STAR_SUB_DWARF': 15, 'SKY': 16, 'SERENDIPITY_MANUAL': 17, 'STAR_PN': 18}\n"
     ]
    }
   ],
   "source": [
    "train_x = train\n",
    "train_y =labels.replace(label_dict)\n",
    "print(labels)\n",
    "print(label_dict)"
   ]
  },
  {
   "cell_type": "code",
   "execution_count": 6,
   "metadata": {},
   "outputs": [],
   "source": [
    "optimizer = tf.keras.optimizers.Adam(learning_rate = 0.0003)"
   ]
  },
  {
   "cell_type": "code",
   "execution_count": 7,
   "metadata": {},
   "outputs": [],
   "source": [
    "model = tf.keras.models.Sequential([\n",
    "    tf.keras.layers.Input(len(train_x.columns)),\n",
    "    tf.keras.layers.Dense(256*4, activation = 'elu'),\n",
    "    tf.keras.layers.Dropout(0.1),\n",
    "    tf.keras.layers.Dense(256*4, activation = 'elu'),\n",
    "    tf.keras.layers.Dense(256*3, activation = 'elu'),\n",
    "    tf.keras.layers.Dropout(0.15),\n",
    "    tf.keras.layers.Dense(256*3, activation = 'elu'),\n",
    "    tf.keras.layers.Dense(256*2, activation = 'elu'),\n",
    "    tf.keras.layers.Dropout(0.1),\n",
    "    tf.keras.layers.Dense(256*2, activation = 'elu'),\n",
    "    tf.keras.layers.Dropout(0.15),\n",
    "    tf.keras.layers.Dense(256*1, activation = 'elu'),\n",
    "    tf.keras.layers.Dense(256*1, activation = 'elu'),\n",
    "    tf.keras.layers.Dropout(0.15),\n",
    "    tf.keras.layers.Dense(128, activation = 'elu'),\n",
    "    tf.keras.layers.Dropout(0.1),\n",
    "    tf.keras.layers.Dense(64, activation = 'elu'),\n",
    "    tf.keras.layers.Dense(32, activation = 'elu'),\n",
    "    tf.keras.layers.Dense(19, activation = 'softmax'),\n",
    "])"
   ]
  },
  {
   "cell_type": "code",
   "execution_count": 8,
   "metadata": {},
   "outputs": [],
   "source": [
    "model.compile(optimizer = optimizer,\n",
    "             loss = 'sparse_categorical_crossentropy',\n",
    "             metrics = ['accuracy'])"
   ]
  },
  {
   "cell_type": "code",
   "execution_count": null,
   "metadata": {},
   "outputs": [
    {
     "name": "stdout",
     "output_type": "stream",
     "text": [
      "WARNING:tensorflow:Falling back from v2 loop because of error: Failed to find data adapter that can handle input: <class 'pandas.core.frame.DataFrame'>, <class 'NoneType'>\n"
     ]
    }
   ],
   "source": [
    "model.fit(train_x,\n",
    "         train_y,\n",
    "         batch_size = 256*3,\n",
    "         validation_split=0.1,\n",
    "         epochs=1)"
   ]
  },
  {
   "cell_type": "code",
   "execution_count": 21,
   "metadata": {},
   "outputs": [
    {
     "data": {
      "text/plain": [
       "(10009,)"
      ]
     },
     "execution_count": 21,
     "metadata": {},
     "output_type": "execute_result"
    }
   ],
   "source": [
    "test.index.shape"
   ]
  },
  {
   "cell_type": "code",
   "execution_count": 26,
   "metadata": {},
   "outputs": [],
   "source": [
    "test = pd.read_csv(\"C:\\\\Users\\\\customer\\\\Desktop\\\\Dacon\\\\test.csv\").reset_index(drop=True)\n",
    "test_ids = test['id']\n",
    "test = test.drop(columns = ['fiberID'])\n",
    "\n",
    "test = pd.DataFrame(scaler.fit_transform(test), columns = test.columns, index = test.index)"
   ]
  },
  {
   "cell_type": "code",
   "execution_count": 27,
   "metadata": {},
   "outputs": [
    {
     "name": "stdout",
     "output_type": "stream",
     "text": [
      "WARNING:tensorflow:Falling back from v2 loop because of error: Failed to find data adapter that can handle input: <class 'pandas.core.frame.DataFrame'>, <class 'NoneType'>\n"
     ]
    }
   ],
   "source": [
    "pred_mat = model.predict(test)"
   ]
  },
  {
   "cell_type": "code",
   "execution_count": 30,
   "metadata": {},
   "outputs": [],
   "source": [
    "sample = pd.read_csv(\"C:\\\\Users\\\\customer\\\\Desktop\\\\Dacon\\\\sample_submission.csv\")\n",
    "\n",
    "submission = pd.DataFrame(pred_mat, index = test.index)\n",
    "submission = submission.rename(columns=i2lb)\n",
    "submission = pd.concat([test_ids, submission], axis=1)\n",
    "submission = submission[sample.columns]\n",
    "submission.to_csv(\"submission_ver4.csv\",index=False)"
   ]
  },
  {
   "cell_type": "code",
   "execution_count": null,
   "metadata": {},
   "outputs": [],
   "source": []
  }
 ],
 "metadata": {
  "kernelspec": {
   "display_name": "Python 3",
   "language": "python",
   "name": "python3"
  },
  "language_info": {
   "codemirror_mode": {
    "name": "ipython",
    "version": 3
   },
   "file_extension": ".py",
   "mimetype": "text/x-python",
   "name": "python",
   "nbconvert_exporter": "python",
   "pygments_lexer": "ipython3",
   "version": "3.7.6"
  }
 },
 "nbformat": 4,
 "nbformat_minor": 4
}
