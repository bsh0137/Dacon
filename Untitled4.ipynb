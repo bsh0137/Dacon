{
 "cells": [
  {
   "cell_type": "code",
   "execution_count": 3,
   "metadata": {},
   "outputs": [],
   "source": [
    "from keras.models import Sequential\n",
    "from keras.layers import Dense\n",
    "\n",
    "import numpy as np\n",
    "import tensorflow as tf\n",
    "import pandas as pd"
   ]
  },
  {
   "cell_type": "code",
   "execution_count": 4,
   "metadata": {},
   "outputs": [],
   "source": [
    "# 입력 데이터\n",
    "train = pd.read_csv(\"C:\\\\Users\\\\customer\\\\Desktop\\\\Dacon\\\\train.csv\")\n",
    "test = pd.read_csv(\"C:\\\\Users\\\\customer\\\\Desktop\\\\Dacon\\\\test.csv\")\n",
    "sample_submission = pd.read_csv(\"C:\\\\Users\\\\customer\\\\Desktop\\\\Dacon\\\\sample_submission.csv\")"
   ]
  },
  {
   "cell_type": "code",
   "execution_count": 5,
   "metadata": {},
   "outputs": [
    {
     "name": "stdout",
     "output_type": "stream",
     "text": [
      "{'QSO': 0, 'STAR_RED_DWARF': 1, 'SERENDIPITY_BLUE': 2, 'STAR_BHB': 3, 'STAR_CATY_VAR': 4, 'SERENDIPITY_DISTANT': 5, 'GALAXY': 6, 'SPECTROPHOTO_STD': 7, 'REDDEN_STD': 8, 'ROSAT_D': 9, 'STAR_WHITE_DWARF': 10, 'SERENDIPITY_RED': 11, 'STAR_CARBON': 12, 'SERENDIPITY_FIRST': 13, 'STAR_BROWN_DWARF': 14, 'STAR_SUB_DWARF': 15, 'SKY': 16, 'SERENDIPITY_MANUAL': 17, 'STAR_PN': 18}\n",
      "{0: 'QSO', 1: 'STAR_RED_DWARF', 2: 'SERENDIPITY_BLUE', 3: 'STAR_BHB', 4: 'STAR_CATY_VAR', 5: 'SERENDIPITY_DISTANT', 6: 'GALAXY', 7: 'SPECTROPHOTO_STD', 8: 'REDDEN_STD', 9: 'ROSAT_D', 10: 'STAR_WHITE_DWARF', 11: 'SERENDIPITY_RED', 12: 'STAR_CARBON', 13: 'SERENDIPITY_FIRST', 14: 'STAR_BROWN_DWARF', 15: 'STAR_SUB_DWARF', 16: 'SKY', 17: 'SERENDIPITY_MANUAL', 18: 'STAR_PN'}\n"
     ]
    }
   ],
   "source": [
    "unique_labels = train['type'].unique()\n",
    "label_dict =  {val:i for i, val in enumerate(unique_labels)}\n",
    "i2lb = {v:k for k, v in label_dict.items()}"
   ]
  },
  {
   "cell_type": "code",
   "execution_count": 7,
   "metadata": {},
   "outputs": [],
   "source": [
    "column_number = {}\n",
    "column_name = {}\n",
    "for i, column in enumerate(sample_submission.columns):\n",
    "    column_number[column] = i\n",
    "    column_name[i] = column\n",
    "def to_number(x, dic):\n",
    "    return dic[x]\n",
    "\n",
    "train['type_num'] = train['type'].apply(lambda x: to_number(x, column_number))"
   ]
  },
  {
   "cell_type": "code",
   "execution_count": 9,
   "metadata": {},
   "outputs": [
    {
     "data": {
      "text/plain": [
       "(199991, 22)"
      ]
     },
     "execution_count": 9,
     "metadata": {},
     "output_type": "execute_result"
    }
   ],
   "source": [
    "train_x = train.drop(columns=['type', 'type_num'], axis=1)\n",
    "train_y = train['type_num']\n",
    "test_x = test\n",
    "train_x.shape"
   ]
  },
  {
   "cell_type": "code",
   "execution_count": 10,
   "metadata": {},
   "outputs": [],
   "source": [
    "model = Sequential()\n",
    "model.add(Dense(30,input_dim=22, activation = 'relu'))\n",
    "model.add(Dense(1,activation = 'sigmoid'))"
   ]
  },
  {
   "cell_type": "code",
   "execution_count": null,
   "metadata": {},
   "outputs": [],
   "source": [
    "# 딥러닝 실행\n",
    "model.compile(loss='mean_squared_error', optimizer = 'adam', metrics = ['accuracy'])\n",
    "model.fit(train_x, train_y, epochs = 1, batch_size = 10)"
   ]
  },
  {
   "cell_type": "code",
   "execution_count": null,
   "metadata": {},
   "outputs": [],
   "source": []
  }
 ],
 "metadata": {
  "kernelspec": {
   "display_name": "Python 3",
   "language": "python",
   "name": "python3"
  },
  "language_info": {
   "codemirror_mode": {
    "name": "ipython",
    "version": 3
   },
   "file_extension": ".py",
   "mimetype": "text/x-python",
   "name": "python",
   "nbconvert_exporter": "python",
   "pygments_lexer": "ipython3",
   "version": "3.7.6"
  }
 },
 "nbformat": 4,
 "nbformat_minor": 4
}
